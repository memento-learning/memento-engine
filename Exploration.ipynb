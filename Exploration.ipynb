{
 "cells": [
  {
   "cell_type": "markdown",
   "metadata": {},
   "source": [
    "# Spaced Repetition Algorithim\n",
    "\n",
    "## Ebbinghaus\n",
    "The ebbinghaus model will represent human memory decay. See the paper for more details.\n",
    "\n",
    "\n",
    "$$\n",
    "p=2^{-\\frac{\\Delta}{h}}\\\\\n",
    "\\Delta = \\text{time since last review}\\\\\n",
    "h = \\text{half life (memory decay constant)}\\\\\n",
    "p = \\text{probability of recall}\\\\\n",
    "$$\n",
    "\n",
    "This model will be used to retroactively evaluate algorithims to see how they would perform on historical data. See the evaluation section to see how we define \"performance\". Here are a couple of derivations that are important from this function:\n",
    "\n",
    "#### Solving For Half Life\n",
    "For a given sample, under the current models assumption, given an empirical probability, and $\\Delta$, we can solve for the half life.\n",
    "$$\n",
    "p=2^{-\\frac{\\Delta}{h}}\\\\\n",
    "\\log_2 p=-\\frac{\\Delta}{h}\\\\\n",
    "h = -\\frac{\\Delta}{\\log_2 p}\n",
    "$$\n",
    "\n",
    "## Dataset\n",
    "The dataset we will be using to retroactively evaluate our algorithims will be from DuoLingo's user logs. This contains a log of user test sessions: time since last test, a number of user features (see dataset), and the proportion of questions correct for that session. \n",
    "\n",
    "## Evaluation\n",
    "To evaluate each algorithim, we must estimate the half life for the user based on all the user features.\n",
    "\n",
    "$$\n",
    "h_\\Theta = f(\\mathbf{x})\\\\\n",
    "\\mathbf{x} = \\text{user features}\n",
    "$$\n",
    "\n",
    "Here $\\Theta$ is set of optimal weights that correspond to each user feature. Howevever spaced repitition algorithims have a problem where they only output Intervals as opposed to half lifes. So to retroactively evaluate algorithims that are heuristic based, we can instead output the interval and convert it to a half life based on the Ebbinghaus equations.\n",
    "\n",
    "$$\n",
    "h = -\\frac{I_a}{\\log_2 p_a}\n",
    "$$\n",
    "\n",
    "Here $I_a$ is the interval outputed from algorithim $a$.  $p_a$ is the target probability for the algorithim, or the recall probability at which it reccommends a review. This presents another problem. The heuristic based algorithims are not directly modeled via Ebbinghaus, so there is no $p_a$ explicitly stated in the implementation. There is also a lot of different school of though on what the best $p_a$ is for optimal review. For our purpose, we just want to compare how these algorithims would **rank** items for review as opposed to their predicited recall. So for now we assume $p_a$ as a consistent probability (0.5), and intead compute error based on the Wilcox Rank Sum metric. This will look at the error in ordinality from the empirical half life and from the half life derived from recccommended interval.\n"
   ]
  },
  {
   "cell_type": "markdown",
   "metadata": {},
   "source": [
    "## Evaluation\n",
    "To evaluate each algorithim, we will be using historical data to try and estimate a theoretical half life. However most algorithims always reccommend delta, or the interval at which the next review session should be held. The paper makes an assumption that all algorithims must initiate a review session at $p=0.5$. In this evaluation, we will compare performance across multiple values of $p$.\\\n",
    "\\\n",
    "$\\mathcal{D} = \\{\\langle p, \\Delta, \\mathbf{x}\\rangle\\}^D_i \\quad$ This represents the dataset we have\\\n",
    "\\\n",
    "We will calculate a loss function using the observed recall and a theoretical recall. The theoretical recall is computed via $\\Delta$ and $h_\\Theta$. $h_\\Theta$ is a function that takes a set of input features and estimates a half life. "
   ]
  },
  {
   "cell_type": "code",
   "execution_count": 1,
   "metadata": {},
   "outputs": [],
   "source": [
    "import numpy as np\n",
    "import pandas as pd\n",
    "import torch\n",
    "from data import DuoLingo\n",
    "import matplotlib.pyplot as plt"
   ]
  },
  {
   "cell_type": "code",
   "execution_count": null,
   "metadata": {},
   "outputs": [],
   "source": []
  },
  {
   "cell_type": "code",
   "execution_count": 29,
   "metadata": {},
   "outputs": [
    {
     "data": {
      "text/plain": [
       "{'delta': 320.0189236111111,\n",
       " 'p': 1.0,\n",
       " 'correct': 4,\n",
       " 'incorrect': 2,\n",
       " 'hist_p': array([ 0.6666667, -1.       , -1.       , -1.       , -1.       ,\n",
       "        -1.       , -1.       , -1.       , -1.       , -1.       ,\n",
       "        -1.       , -1.       , -1.       , -1.       , -1.       ,\n",
       "        -1.       , -1.       , -1.       , -1.       , -1.       ,\n",
       "        -1.       , -1.       , -1.       , -1.       , -1.       ,\n",
       "        -1.       , -1.       , -1.       , -1.       , -1.       ,\n",
       "        -1.       , -1.       , -1.       , -1.       , -1.       ,\n",
       "        -1.       , -1.       , -1.       , -1.       , -1.       ,\n",
       "        -1.       , -1.       , -1.       , -1.       , -1.       ,\n",
       "        -1.       , -1.       , -1.       , -1.       , -1.       ,\n",
       "        -1.       , -1.       , -1.       , -1.       , -1.       ,\n",
       "        -1.       , -1.       , -1.       , -1.       , -1.       ,\n",
       "        -1.       , -1.       , -1.       , -1.       , -1.       ,\n",
       "        -1.       , -1.       , -1.       , -1.       , -1.       ,\n",
       "        -1.       , -1.       , -1.       , -1.       , -1.       ,\n",
       "        -1.       , -1.       , -1.       , -1.       , -1.       ,\n",
       "        -1.       , -1.       , -1.       , -1.       , -1.       ,\n",
       "        -1.       , -1.       , -1.       , -1.       , -1.       ,\n",
       "        -1.       , -1.       , -1.       , -1.       , -1.       ,\n",
       "        -1.       , -1.       , -1.       , -1.       , -1.       ,\n",
       "        -1.       , -1.       , -1.       , -1.       , -1.       ,\n",
       "        -1.       , -1.       , -1.       , -1.       , -1.       ,\n",
       "        -1.       , -1.       , -1.       , -1.       , -1.       ,\n",
       "        -1.       , -1.       , -1.       , -1.       , -1.       ,\n",
       "        -1.       , -1.       , -1.       , -1.       , -1.       ,\n",
       "        -1.       , -1.       , -1.       , -1.       , -1.       ,\n",
       "        -1.       , -1.       , -1.       , -1.       , -1.       ,\n",
       "        -1.       , -1.       , -1.       , -1.       , -1.       ,\n",
       "        -1.       , -1.       , -1.       , -1.       , -1.       ,\n",
       "        -1.       , -1.       , -1.       , -1.       , -1.       ,\n",
       "        -1.       , -1.       , -1.       , -1.       , -1.       ,\n",
       "        -1.       , -1.       , -1.       , -1.       , -1.       ,\n",
       "        -1.       , -1.       , -1.       , -1.       , -1.       ,\n",
       "        -1.       , -1.       , -1.       , -1.       , -1.       ,\n",
       "        -1.       , -1.       , -1.       , -1.       , -1.       ,\n",
       "        -1.       , -1.       , -1.       , -1.       , -1.       ,\n",
       "        -1.       , -1.       , -1.       , -1.       , -1.       ,\n",
       "        -1.       , -1.       , -1.       , -1.       , -1.       ,\n",
       "        -1.       , -1.       , -1.       , -1.       , -1.       ,\n",
       "        -1.       , -1.       , -1.       , -1.       , -1.       ,\n",
       "        -1.       , -1.       , -1.       , -1.       , -1.       ,\n",
       "        -1.       , -1.       , -1.       , -1.       , -1.       ,\n",
       "        -1.       , -1.       , -1.       , -1.       , -1.       ,\n",
       "        -1.       , -1.       , -1.       , -1.       , -1.       ,\n",
       "        -1.       , -1.       , -1.       , -1.       , -1.       ,\n",
       "        -1.       , -1.       , -1.       , -1.       , -1.       ,\n",
       "        -1.       , -1.       , -1.       , -1.       , -1.       ,\n",
       "        -1.       , -1.       , -1.       , -1.       , -1.       ,\n",
       "        -1.       , -1.       , -1.       , -1.       , -1.       ,\n",
       "        -1.       , -1.       , -1.       , -1.       , -1.       ,\n",
       "        -1.       , -1.       , -1.       , -1.       , -1.       ,\n",
       "        -1.       , -1.       , -1.       , -1.       , -1.       ,\n",
       "        -1.       , -1.       , -1.       , -1.       , -1.       ,\n",
       "        -1.       , -1.       , -1.       , -1.       , -1.       ,\n",
       "        -1.       , -1.       , -1.       , -1.       , -1.       ,\n",
       "        -1.       , -1.       , -1.       , -1.       , -1.       ,\n",
       "        -1.       , -1.       , -1.       , -1.       , -1.       ,\n",
       "        -1.       , -1.       , -1.       , -1.       , -1.       ,\n",
       "        -1.       , -1.       , -1.       , -1.       , -1.       ,\n",
       "        -1.       , -1.       , -1.       , -1.       , -1.       ,\n",
       "        -1.       , -1.       , -1.       , -1.       , -1.       ,\n",
       "        -1.       , -1.       , -1.       , -1.       , -1.       ,\n",
       "        -1.       , -1.       , -1.       , -1.       , -1.       ,\n",
       "        -1.       , -1.       , -1.       , -1.       , -1.       ,\n",
       "        -1.       , -1.       , -1.       , -1.       , -1.       ,\n",
       "        -1.       , -1.       , -1.       , -1.       , -1.       ,\n",
       "        -1.       , -1.       , -1.       , -1.       , -1.       ,\n",
       "        -1.       , -1.       , -1.       , -1.       , -1.       ,\n",
       "        -1.       , -1.       , -1.       , -1.       , -1.       ,\n",
       "        -1.       , -1.       , -1.       , -1.       , -1.       ,\n",
       "        -1.       , -1.       , -1.       , -1.       , -1.       ,\n",
       "        -1.       , -1.       , -1.       , -1.       , -1.       ,\n",
       "        -1.       , -1.       , -1.       , -1.       , -1.       ,\n",
       "        -1.       , -1.       , -1.       , -1.       , -1.       ,\n",
       "        -1.       , -1.       , -1.       , -1.       , -1.       ,\n",
       "        -1.       , -1.       , -1.       , -1.       , -1.       ,\n",
       "        -1.       , -1.       , -1.       , -1.       , -1.       ,\n",
       "        -1.       , -1.       , -1.       , -1.       , -1.       ,\n",
       "        -1.       , -1.       , -1.       , -1.       , -1.       ,\n",
       "        -1.       , -1.       , -1.       , -1.       , -1.       ],\n",
       "       dtype=float32)}"
      ]
     },
     "execution_count": 29,
     "metadata": {},
     "output_type": "execute_result"
    }
   ],
   "source": [
    "dataset = DuoLingo()\n",
    "dataset[0]"
   ]
  },
  {
   "cell_type": "code",
   "execution_count": 30,
   "metadata": {},
   "outputs": [
    {
     "name": "stdout",
     "output_type": "stream",
     "text": [
      "{'delta': array([27.43917824074074, 0.005300925925925926, 0.0037731481481481483,\n",
      "       0.0029745370370370373, 0.0034027777777777776, 0.004768518518518518,\n",
      "       0.005, 0.0016550925925925926, 0.0021064814814814813,\n",
      "       0.0017939814814814815, 0.0016087962962962963, 0.001875,\n",
      "       0.0019212962962962964, 0.0032407407407407406], dtype=object), 'p': array([1.0, 0.857142857143, 0.875, 0.625, 1.0, 0.875, 1.0, 1.0, 1.0, 1.0,\n",
      "       1.0, 1.0, 1.0, 1.0], dtype=object), 'correct': array([3, 7, 13, 20, 25, 34, 41, 45, 48, 52, 56, 58, 62, 65], dtype=object), 'incorrect': array([1, 1, 2, 3, 6, 6, 7, 7, 7, 7, 7, 7, 7, 7], dtype=object), 'hist_p': array([[ 0.75      , -1.        , -1.        , ..., -1.        ,\n",
      "        -1.        , -1.        ],\n",
      "       [ 0.75      ,  1.        , -1.        , ..., -1.        ,\n",
      "        -1.        , -1.        ],\n",
      "       [ 0.75      ,  1.        ,  0.85714287, ..., -1.        ,\n",
      "        -1.        , -1.        ],\n",
      "       ...,\n",
      "       [ 0.75      ,  1.        ,  0.85714287, ..., -1.        ,\n",
      "        -1.        , -1.        ],\n",
      "       [ 0.75      ,  1.        ,  0.85714287, ..., -1.        ,\n",
      "        -1.        , -1.        ],\n",
      "       [ 0.75      ,  1.        ,  0.85714287, ..., -1.        ,\n",
      "        -1.        , -1.        ]], dtype=float32)}\n"
     ]
    }
   ],
   "source": [
    "ui_map = dataset.user_item_ctx\n",
    "\n",
    "user_item_sample = None\n",
    "\n",
    "for key in ui_map:\n",
    "    for item in ui_map[key]:\n",
    "        if len(ui_map[key][item]) > 10:\n",
    "            cnt = 0\n",
    "            for p in dataset[ui_map[key][item]]['p']:\n",
    "                if p != 1 and p != 0 and p!=.5:\n",
    "                    cnt += 1\n",
    "            if cnt > 3:\n",
    "                user_item_sample = ui_map[key][item]\n",
    "                break\n",
    "print(dataset[user_item_sample])"
   ]
  },
  {
   "cell_type": "code",
   "execution_count": 32,
   "metadata": {},
   "outputs": [],
   "source": [
    "user_item_sample = dataset[user_item_sample]"
   ]
  },
  {
   "cell_type": "code",
   "execution_count": 35,
   "metadata": {},
   "outputs": [
    {
     "name": "stdout",
     "output_type": "stream",
     "text": [
      "0.857142757143\n",
      "0.005300925925925926\n",
      "0.023835892797746835\n",
      "\n",
      "0.8749999\n",
      "0.0037731481481481483\n",
      "0.019585991810021585\n",
      "\n",
      "0.6249999\n",
      "0.0029745370370370373\n",
      "0.004386756038716357\n",
      "\n",
      "0.9999999\n",
      "0.0034027777777777776\n",
      "23586.25706048886\n",
      "\n",
      "0.8749999\n",
      "0.004768518518518518\n",
      "0.02475284854518065\n",
      "\n",
      "0.9999999\n",
      "0.005\n",
      "34657.357313371394\n",
      "\n",
      "0.9999999\n",
      "0.0016550925925925926\n",
      "11472.22707363914\n",
      "\n",
      "0.9999999\n",
      "0.0021064814814814813\n",
      "14601.016275540724\n",
      "\n",
      "0.9999999\n",
      "0.0017939814814814815\n",
      "12434.931443455012\n",
      "\n",
      "0.9999999\n",
      "0.0016087962962962963\n",
      "11151.32561703385\n",
      "\n",
      "0.9999999\n",
      "0.001875\n",
      "12996.508992514271\n",
      "\n",
      "0.9999999\n",
      "0.0019212962962962964\n",
      "13317.410449119563\n",
      "\n",
      "0.9999999\n",
      "0.0032407407407407406\n",
      "22463.101962370343\n",
      "\n"
     ]
    },
    {
     "data": {
      "image/png": "[encoded data removed]",
      "text/plain": [
       "<Figure size 432x288 with 1 Axes>"
      ]
     },
     "metadata": {
      "needs_background": "light"
     },
     "output_type": "display_data"
    }
   ],
   "source": [
    "import math\n",
    "x = []\n",
    "\n",
    "x_last = 0\n",
    "for i in range(len(user_item_sample['p'])):\n",
    "    if i== 0:\n",
    "        continue\n",
    "    p = max(user_item_sample['p'][i] - 1e-7,0)\n",
    "    \n",
    "    delta = user_item_sample['delta'][i]\n",
    "    h = -(delta) / (math.log2(p))\n",
    "    x = np.linspace(x_last,x_last+delta,100)\n",
    "    print(p)\n",
    "    print(delta)\n",
    "    print(h)\n",
    "    print()\n",
    "    y = 2**(-(x-x_last)/h)\n",
    "    x_last = x_last+delta\n",
    "    plt.plot(x,y)\n",
    "    \n",
    "plt.show()"
   ]
  },
  {
   "cell_type": "code",
   "execution_count": null,
   "metadata": {},
   "outputs": [],
   "source": []
  },
  {
   "cell_type": "code",
   "execution_count": 27,
   "metadata": {},
   "outputs": [
    {
     "name": "stdout",
     "output_type": "stream",
     "text": [
      "[[1.0 1362076081 27649635 ... 4 2 2]\n",
      " [0.5 1362076081 27649635 ... 4 2 1]\n",
      " [1.0 1362076081 27649635 ... 4 1 1]\n",
      " ...\n",
      " [1.0 1363104897 368 ... 4 4 4]\n",
      " [0.6 1363104897 368 ... 2 5 3]\n",
      " [0.666666666667 1363104897 368 ... 3 9 6]]\n"
     ]
    }
   ],
   "source": []
  },
  {
   "cell_type": "code",
   "execution_count": 26,
   "metadata": {},
   "outputs": [],
   "source": []
  },
  {
   "cell_type": "code",
   "execution_count": null,
   "metadata": {},
   "outputs": [],
   "source": []
  },
  {
   "cell_type": "code",
   "execution_count": 28,
   "metadata": {},
   "outputs": [
    {
     "data": {
      "text/plain": [
       "{'76390c1350a8dac31186187e2fe1e178': [0, 8, 51, 57, 59],\n",
       " '7dfd7086f3671685e2cf1c1da72796d7': [1, 9, 52],\n",
       " '35a54c25a2cda8127343f6a82e6f6b7d': [2, 10, 17, 61],\n",
       " '0cf63ffe3dda158bc3dbd55682b355ae': [3, 11, 55],\n",
       " '84920990d78044db53c1b012f5bf9ab5': [4, 12, 16, 63],\n",
       " '56429751fdaedb6e491f4795c770f5a4': [5, 13, 62],\n",
       " '1bacf218eaaf9f944e525f7be9b31899': [6, 14, 60],\n",
       " '4fcb6bb8e44d7b618999721071862827': [18],\n",
       " 'a6834806c43ea1be9eb3e4fdae6f98db': [19],\n",
       " 'dd34978165d17f7e729a2ef331a7600d': [53, 58],\n",
       " '495f763ef6027e020c53431484aa5ede': [54],\n",
       " '46b112cd07fdcc98db8670a5d71c613d': [56]}"
      ]
     },
     "execution_count": 28,
     "metadata": {},
     "output_type": "execute_result"
    }
   ],
   "source": []
  },
  {
   "cell_type": "code",
   "execution_count": null,
   "metadata": {},
   "outputs": [],
   "source": []
  }
 ],
 "metadata": {
  "kernelspec": {
   "display_name": "Python 3",
   "language": "python",
   "name": "python3"
  },
  "language_info": {
   "codemirror_mode": {
    "name": "ipython",
    "version": 3
   },
   "file_extension": ".py",
   "mimetype": "text/x-python",
   "name": "python",
   "nbconvert_exporter": "python",
   "pygments_lexer": "ipython3",
   "version": "3.8.5"
  }
 },
 "nbformat": 4,
 "nbformat_minor": 4
}
